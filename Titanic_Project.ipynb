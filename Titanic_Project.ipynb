{
  "cells": [
    {
      "cell_type": "markdown",
      "metadata": {
        "id": "view-in-github",
        "colab_type": "text"
      },
      "source": [
        "<a href=\"https://colab.research.google.com/github/YemisiTaiwo06/Titanic-Survivor-Prediction-Model/blob/main/Titanic_Project.ipynb\" target=\"_parent\"><img src=\"https://colab.research.google.com/assets/colab-badge.svg\" alt=\"Open In Colab\"/></a>"
      ]
    },
    {
      "cell_type": "markdown",
      "source": [
        "\n",
        "*This is one of the projects I did in my AI learning class.*\n",
        "\n",
        "**Project Question**\n",
        "\n",
        "Be the hero of the day by predicting the survival of Titanic passengers\n",
        "\n",
        "Competition Description\n",
        "\n",
        "The sinking of the RMS Titanic is one of the most infamous shipwrecks in history. On April 15, 1912, during her maiden voyage, the Titanic sank after colliding with an iceberg, killing 1502 out of 2224 passengers and crew. This sensational tragedy shocked the international community and led to better safety regulations for ships.\n",
        "\n",
        "One of the reasons that the shipwreck led to such loss of life was that there were not enough lifeboats for the passengers and crew. Although there was some element of luck involved in surviving the sinking, some groups of people were more likely to survive than others, such as women, children, and the upper-class.\n",
        "\n",
        "In this challenge, we ask you to complete the analysis of what sorts of people were likely to survive.\n",
        "\n",
        "In particular, we ask you to apply the tools of machine learning to predict which passengers survived the tragedy. GoodLuck!!!\n",
        "\n"
      ],
      "metadata": {
        "id": "oGmoeBUWI7ew"
      }
    },
    {
      "cell_type": "markdown",
      "source": [
        "![image.png](data:image/png;base64,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)"
      ],
      "metadata": {
        "id": "lf7rcsBlWLS9"
      }
    },
    {
      "cell_type": "markdown",
      "source": [
        "*Below is my solution to the challenge:*"
      ],
      "metadata": {
        "id": "Cg-wwr-SNEl9"
      }
    },
    {
      "cell_type": "code",
      "execution_count": 492,
      "metadata": {
        "id": "oPIhjLpVnG5z"
      },
      "outputs": [],
      "source": [
        "\n",
        "\n",
        "import numpy as np\n",
        "import pandas as pd\n",
        "import matplotlib.pyplot as plt\n",
        "%matplotlib inline\n",
        "import seaborn as sns\n",
        "from pandas_profiling import ProfileReport"
      ]
    },
    {
      "cell_type": "code",
      "execution_count": 493,
      "metadata": {
        "id": "cBH_4K-BnfOm",
        "colab": {
          "base_uri": "https://localhost:8080/",
          "height": 206
        },
        "outputId": "d37c6fe3-9ae9-4473-c755-5a16a7f62fef"
      },
      "outputs": [
        {
          "output_type": "execute_result",
          "data": {
            "text/plain": [
              "   Survived  Pclass     Sex   Age  SibSp  Parch     Fare Embarked\n",
              "0         0       3    male  22.0      1      0   7.2500        S\n",
              "1         1       1  female  38.0      1      0  71.2833        C\n",
              "2         1       3  female  26.0      0      0   7.9250        S\n",
              "3         1       1  female  35.0      1      0  53.1000        S\n",
              "4         0       3    male  35.0      0      0   8.0500        S"
            ],
            "text/html": [
              "\n",
              "  <div id=\"df-1a3a9a9f-d204-4371-9187-84776e0e4e99\">\n",
              "    <div class=\"colab-df-container\">\n",
              "      <div>\n",
              "<style scoped>\n",
              "    .dataframe tbody tr th:only-of-type {\n",
              "        vertical-align: middle;\n",
              "    }\n",
              "\n",
              "    .dataframe tbody tr th {\n",
              "        vertical-align: top;\n",
              "    }\n",
              "\n",
              "    .dataframe thead th {\n",
              "        text-align: right;\n",
              "    }\n",
              "</style>\n",
              "<table border=\"1\" class=\"dataframe\">\n",
              "  <thead>\n",
              "    <tr style=\"text-align: right;\">\n",
              "      <th></th>\n",
              "      <th>Survived</th>\n",
              "      <th>Pclass</th>\n",
              "      <th>Sex</th>\n",
              "      <th>Age</th>\n",
              "      <th>SibSp</th>\n",
              "      <th>Parch</th>\n",
              "      <th>Fare</th>\n",
              "      <th>Embarked</th>\n",
              "    </tr>\n",
              "  </thead>\n",
              "  <tbody>\n",
              "    <tr>\n",
              "      <th>0</th>\n",
              "      <td>0</td>\n",
              "      <td>3</td>\n",
              "      <td>male</td>\n",
              "      <td>22.0</td>\n",
              "      <td>1</td>\n",
              "      <td>0</td>\n",
              "      <td>7.2500</td>\n",
              "      <td>S</td>\n",
              "    </tr>\n",
              "    <tr>\n",
              "      <th>1</th>\n",
              "      <td>1</td>\n",
              "      <td>1</td>\n",
              "      <td>female</td>\n",
              "      <td>38.0</td>\n",
              "      <td>1</td>\n",
              "      <td>0</td>\n",
              "      <td>71.2833</td>\n",
              "      <td>C</td>\n",
              "    </tr>\n",
              "    <tr>\n",
              "      <th>2</th>\n",
              "      <td>1</td>\n",
              "      <td>3</td>\n",
              "      <td>female</td>\n",
              "      <td>26.0</td>\n",
              "      <td>0</td>\n",
              "      <td>0</td>\n",
              "      <td>7.9250</td>\n",
              "      <td>S</td>\n",
              "    </tr>\n",
              "    <tr>\n",
              "      <th>3</th>\n",
              "      <td>1</td>\n",
              "      <td>1</td>\n",
              "      <td>female</td>\n",
              "      <td>35.0</td>\n",
              "      <td>1</td>\n",
              "      <td>0</td>\n",
              "      <td>53.1000</td>\n",
              "      <td>S</td>\n",
              "    </tr>\n",
              "    <tr>\n",
              "      <th>4</th>\n",
              "      <td>0</td>\n",
              "      <td>3</td>\n",
              "      <td>male</td>\n",
              "      <td>35.0</td>\n",
              "      <td>0</td>\n",
              "      <td>0</td>\n",
              "      <td>8.0500</td>\n",
              "      <td>S</td>\n",
              "    </tr>\n",
              "  </tbody>\n",
              "</table>\n",
              "</div>\n",
              "      <button class=\"colab-df-convert\" onclick=\"convertToInteractive('df-1a3a9a9f-d204-4371-9187-84776e0e4e99')\"\n",
              "              title=\"Convert this dataframe to an interactive table.\"\n",
              "              style=\"display:none;\">\n",
              "        \n",
              "  <svg xmlns=\"http://www.w3.org/2000/svg\" height=\"24px\"viewBox=\"0 0 24 24\"\n",
              "       width=\"24px\">\n",
              "    <path d=\"M0 0h24v24H0V0z\" fill=\"none\"/>\n",
              "    <path d=\"M18.56 5.44l.94 2.06.94-2.06 2.06-.94-2.06-.94-.94-2.06-.94 2.06-2.06.94zm-11 1L8.5 8.5l.94-2.06 2.06-.94-2.06-.94L8.5 2.5l-.94 2.06-2.06.94zm10 10l.94 2.06.94-2.06 2.06-.94-2.06-.94-.94-2.06-.94 2.06-2.06.94z\"/><path d=\"M17.41 7.96l-1.37-1.37c-.4-.4-.92-.59-1.43-.59-.52 0-1.04.2-1.43.59L10.3 9.45l-7.72 7.72c-.78.78-.78 2.05 0 2.83L4 21.41c.39.39.9.59 1.41.59.51 0 1.02-.2 1.41-.59l7.78-7.78 2.81-2.81c.8-.78.8-2.07 0-2.86zM5.41 20L4 18.59l7.72-7.72 1.47 1.35L5.41 20z\"/>\n",
              "  </svg>\n",
              "      </button>\n",
              "      \n",
              "  <style>\n",
              "    .colab-df-container {\n",
              "      display:flex;\n",
              "      flex-wrap:wrap;\n",
              "      gap: 12px;\n",
              "    }\n",
              "\n",
              "    .colab-df-convert {\n",
              "      background-color: #E8F0FE;\n",
              "      border: none;\n",
              "      border-radius: 50%;\n",
              "      cursor: pointer;\n",
              "      display: none;\n",
              "      fill: #1967D2;\n",
              "      height: 32px;\n",
              "      padding: 0 0 0 0;\n",
              "      width: 32px;\n",
              "    }\n",
              "\n",
              "    .colab-df-convert:hover {\n",
              "      background-color: #E2EBFA;\n",
              "      box-shadow: 0px 1px 2px rgba(60, 64, 67, 0.3), 0px 1px 3px 1px rgba(60, 64, 67, 0.15);\n",
              "      fill: #174EA6;\n",
              "    }\n",
              "\n",
              "    [theme=dark] .colab-df-convert {\n",
              "      background-color: #3B4455;\n",
              "      fill: #D2E3FC;\n",
              "    }\n",
              "\n",
              "    [theme=dark] .colab-df-convert:hover {\n",
              "      background-color: #434B5C;\n",
              "      box-shadow: 0px 1px 3px 1px rgba(0, 0, 0, 0.15);\n",
              "      filter: drop-shadow(0px 1px 2px rgba(0, 0, 0, 0.3));\n",
              "      fill: #FFFFFF;\n",
              "    }\n",
              "  </style>\n",
              "\n",
              "      <script>\n",
              "        const buttonEl =\n",
              "          document.querySelector('#df-1a3a9a9f-d204-4371-9187-84776e0e4e99 button.colab-df-convert');\n",
              "        buttonEl.style.display =\n",
              "          google.colab.kernel.accessAllowed ? 'block' : 'none';\n",
              "\n",
              "        async function convertToInteractive(key) {\n",
              "          const element = document.querySelector('#df-1a3a9a9f-d204-4371-9187-84776e0e4e99');\n",
              "          const dataTable =\n",
              "            await google.colab.kernel.invokeFunction('convertToInteractive',\n",
              "                                                     [key], {});\n",
              "          if (!dataTable) return;\n",
              "\n",
              "          const docLinkHtml = 'Like what you see? Visit the ' +\n",
              "            '<a target=\"_blank\" href=https://colab.research.google.com/notebooks/data_table.ipynb>data table notebook</a>'\n",
              "            + ' to learn more about interactive tables.';\n",
              "          element.innerHTML = '';\n",
              "          dataTable['output_type'] = 'display_data';\n",
              "          await google.colab.output.renderOutput(dataTable, element);\n",
              "          const docLink = document.createElement('div');\n",
              "          docLink.innerHTML = docLinkHtml;\n",
              "          element.appendChild(docLink);\n",
              "        }\n",
              "      </script>\n",
              "    </div>\n",
              "  </div>\n",
              "  "
            ]
          },
          "metadata": {},
          "execution_count": 493
        }
      ],
      "source": [
        "\n",
        "\n",
        "import pandas as pd\n",
        "url = 'https://drive.google.com/file/d/1BNrbPshNvrNHiTe1o-Cp1gpJKY-chv5Z/view?usp=sharing'\n",
        "url= 'https://drive.google.com/uc?id=' + url.split('/')[-2]\n",
        "\n",
        "titanic = pd.read_csv(url)\n",
        "\n",
        "titanic.head()"
      ]
    },
    {
      "cell_type": "code",
      "execution_count": 494,
      "metadata": {
        "id": "_aVqentuULTF",
        "colab": {
          "base_uri": "https://localhost:8080/"
        },
        "outputId": "763358c4-0c7a-4f38-80f9-ee71b1e5e562"
      },
      "outputs": [
        {
          "output_type": "execute_result",
          "data": {
            "text/plain": [
              "7128"
            ]
          },
          "metadata": {},
          "execution_count": 494
        }
      ],
      "source": [
        "titanic.size"
      ]
    },
    {
      "cell_type": "code",
      "execution_count": 495,
      "metadata": {
        "id": "4ROd4M_GT_WV",
        "colab": {
          "base_uri": "https://localhost:8080/"
        },
        "outputId": "7b0625a1-368a-4dca-a935-345409b6c78b"
      },
      "outputs": [
        {
          "output_type": "execute_result",
          "data": {
            "text/plain": [
              "(891, 8)"
            ]
          },
          "metadata": {},
          "execution_count": 495
        }
      ],
      "source": [
        "titanic.shape"
      ]
    },
    {
      "cell_type": "code",
      "execution_count": 496,
      "metadata": {
        "id": "KE152UCWoUaM",
        "colab": {
          "base_uri": "https://localhost:8080/",
          "height": 300
        },
        "outputId": "5a571c38-d98c-479b-bf5b-7d00c3e6c475"
      },
      "outputs": [
        {
          "output_type": "execute_result",
          "data": {
            "text/plain": [
              "         Survived      Pclass         Age       SibSp       Parch        Fare\n",
              "count  891.000000  891.000000  891.000000  891.000000  891.000000  891.000000\n",
              "mean     0.383838    2.308642   29.870561    0.523008    0.381594   32.204208\n",
              "std      0.486592    0.836071   14.597668    1.102743    0.806057   49.693429\n",
              "min      0.000000    1.000000    0.420000    0.000000    0.000000    0.000000\n",
              "25%      0.000000    2.000000   21.000000    0.000000    0.000000    7.910400\n",
              "50%      0.000000    3.000000   29.000000    0.000000    0.000000   14.454200\n",
              "75%      1.000000    3.000000   39.000000    1.000000    0.000000   31.000000\n",
              "max      1.000000    3.000000   80.000000    8.000000    6.000000  512.329200"
            ],
            "text/html": [
              "\n",
              "  <div id=\"df-85e5ad0d-f6fb-49ae-afae-42ac591c6c21\">\n",
              "    <div class=\"colab-df-container\">\n",
              "      <div>\n",
              "<style scoped>\n",
              "    .dataframe tbody tr th:only-of-type {\n",
              "        vertical-align: middle;\n",
              "    }\n",
              "\n",
              "    .dataframe tbody tr th {\n",
              "        vertical-align: top;\n",
              "    }\n",
              "\n",
              "    .dataframe thead th {\n",
              "        text-align: right;\n",
              "    }\n",
              "</style>\n",
              "<table border=\"1\" class=\"dataframe\">\n",
              "  <thead>\n",
              "    <tr style=\"text-align: right;\">\n",
              "      <th></th>\n",
              "      <th>Survived</th>\n",
              "      <th>Pclass</th>\n",
              "      <th>Age</th>\n",
              "      <th>SibSp</th>\n",
              "      <th>Parch</th>\n",
              "      <th>Fare</th>\n",
              "    </tr>\n",
              "  </thead>\n",
              "  <tbody>\n",
              "    <tr>\n",
              "      <th>count</th>\n",
              "      <td>891.000000</td>\n",
              "      <td>891.000000</td>\n",
              "      <td>891.000000</td>\n",
              "      <td>891.000000</td>\n",
              "      <td>891.000000</td>\n",
              "      <td>891.000000</td>\n",
              "    </tr>\n",
              "    <tr>\n",
              "      <th>mean</th>\n",
              "      <td>0.383838</td>\n",
              "      <td>2.308642</td>\n",
              "      <td>29.870561</td>\n",
              "      <td>0.523008</td>\n",
              "      <td>0.381594</td>\n",
              "      <td>32.204208</td>\n",
              "    </tr>\n",
              "    <tr>\n",
              "      <th>std</th>\n",
              "      <td>0.486592</td>\n",
              "      <td>0.836071</td>\n",
              "      <td>14.597668</td>\n",
              "      <td>1.102743</td>\n",
              "      <td>0.806057</td>\n",
              "      <td>49.693429</td>\n",
              "    </tr>\n",
              "    <tr>\n",
              "      <th>min</th>\n",
              "      <td>0.000000</td>\n",
              "      <td>1.000000</td>\n",
              "      <td>0.420000</td>\n",
              "      <td>0.000000</td>\n",
              "      <td>0.000000</td>\n",
              "      <td>0.000000</td>\n",
              "    </tr>\n",
              "    <tr>\n",
              "      <th>25%</th>\n",
              "      <td>0.000000</td>\n",
              "      <td>2.000000</td>\n",
              "      <td>21.000000</td>\n",
              "      <td>0.000000</td>\n",
              "      <td>0.000000</td>\n",
              "      <td>7.910400</td>\n",
              "    </tr>\n",
              "    <tr>\n",
              "      <th>50%</th>\n",
              "      <td>0.000000</td>\n",
              "      <td>3.000000</td>\n",
              "      <td>29.000000</td>\n",
              "      <td>0.000000</td>\n",
              "      <td>0.000000</td>\n",
              "      <td>14.454200</td>\n",
              "    </tr>\n",
              "    <tr>\n",
              "      <th>75%</th>\n",
              "      <td>1.000000</td>\n",
              "      <td>3.000000</td>\n",
              "      <td>39.000000</td>\n",
              "      <td>1.000000</td>\n",
              "      <td>0.000000</td>\n",
              "      <td>31.000000</td>\n",
              "    </tr>\n",
              "    <tr>\n",
              "      <th>max</th>\n",
              "      <td>1.000000</td>\n",
              "      <td>3.000000</td>\n",
              "      <td>80.000000</td>\n",
              "      <td>8.000000</td>\n",
              "      <td>6.000000</td>\n",
              "      <td>512.329200</td>\n",
              "    </tr>\n",
              "  </tbody>\n",
              "</table>\n",
              "</div>\n",
              "      <button class=\"colab-df-convert\" onclick=\"convertToInteractive('df-85e5ad0d-f6fb-49ae-afae-42ac591c6c21')\"\n",
              "              title=\"Convert this dataframe to an interactive table.\"\n",
              "              style=\"display:none;\">\n",
              "        \n",
              "  <svg xmlns=\"http://www.w3.org/2000/svg\" height=\"24px\"viewBox=\"0 0 24 24\"\n",
              "       width=\"24px\">\n",
              "    <path d=\"M0 0h24v24H0V0z\" fill=\"none\"/>\n",
              "    <path d=\"M18.56 5.44l.94 2.06.94-2.06 2.06-.94-2.06-.94-.94-2.06-.94 2.06-2.06.94zm-11 1L8.5 8.5l.94-2.06 2.06-.94-2.06-.94L8.5 2.5l-.94 2.06-2.06.94zm10 10l.94 2.06.94-2.06 2.06-.94-2.06-.94-.94-2.06-.94 2.06-2.06.94z\"/><path d=\"M17.41 7.96l-1.37-1.37c-.4-.4-.92-.59-1.43-.59-.52 0-1.04.2-1.43.59L10.3 9.45l-7.72 7.72c-.78.78-.78 2.05 0 2.83L4 21.41c.39.39.9.59 1.41.59.51 0 1.02-.2 1.41-.59l7.78-7.78 2.81-2.81c.8-.78.8-2.07 0-2.86zM5.41 20L4 18.59l7.72-7.72 1.47 1.35L5.41 20z\"/>\n",
              "  </svg>\n",
              "      </button>\n",
              "      \n",
              "  <style>\n",
              "    .colab-df-container {\n",
              "      display:flex;\n",
              "      flex-wrap:wrap;\n",
              "      gap: 12px;\n",
              "    }\n",
              "\n",
              "    .colab-df-convert {\n",
              "      background-color: #E8F0FE;\n",
              "      border: none;\n",
              "      border-radius: 50%;\n",
              "      cursor: pointer;\n",
              "      display: none;\n",
              "      fill: #1967D2;\n",
              "      height: 32px;\n",
              "      padding: 0 0 0 0;\n",
              "      width: 32px;\n",
              "    }\n",
              "\n",
              "    .colab-df-convert:hover {\n",
              "      background-color: #E2EBFA;\n",
              "      box-shadow: 0px 1px 2px rgba(60, 64, 67, 0.3), 0px 1px 3px 1px rgba(60, 64, 67, 0.15);\n",
              "      fill: #174EA6;\n",
              "    }\n",
              "\n",
              "    [theme=dark] .colab-df-convert {\n",
              "      background-color: #3B4455;\n",
              "      fill: #D2E3FC;\n",
              "    }\n",
              "\n",
              "    [theme=dark] .colab-df-convert:hover {\n",
              "      background-color: #434B5C;\n",
              "      box-shadow: 0px 1px 3px 1px rgba(0, 0, 0, 0.15);\n",
              "      filter: drop-shadow(0px 1px 2px rgba(0, 0, 0, 0.3));\n",
              "      fill: #FFFFFF;\n",
              "    }\n",
              "  </style>\n",
              "\n",
              "      <script>\n",
              "        const buttonEl =\n",
              "          document.querySelector('#df-85e5ad0d-f6fb-49ae-afae-42ac591c6c21 button.colab-df-convert');\n",
              "        buttonEl.style.display =\n",
              "          google.colab.kernel.accessAllowed ? 'block' : 'none';\n",
              "\n",
              "        async function convertToInteractive(key) {\n",
              "          const element = document.querySelector('#df-85e5ad0d-f6fb-49ae-afae-42ac591c6c21');\n",
              "          const dataTable =\n",
              "            await google.colab.kernel.invokeFunction('convertToInteractive',\n",
              "                                                     [key], {});\n",
              "          if (!dataTable) return;\n",
              "\n",
              "          const docLinkHtml = 'Like what you see? Visit the ' +\n",
              "            '<a target=\"_blank\" href=https://colab.research.google.com/notebooks/data_table.ipynb>data table notebook</a>'\n",
              "            + ' to learn more about interactive tables.';\n",
              "          element.innerHTML = '';\n",
              "          dataTable['output_type'] = 'display_data';\n",
              "          await google.colab.output.renderOutput(dataTable, element);\n",
              "          const docLink = document.createElement('div');\n",
              "          docLink.innerHTML = docLinkHtml;\n",
              "          element.appendChild(docLink);\n",
              "        }\n",
              "      </script>\n",
              "    </div>\n",
              "  </div>\n",
              "  "
            ]
          },
          "metadata": {},
          "execution_count": 496
        }
      ],
      "source": [
        "titanic.describe()"
      ]
    },
    {
      "cell_type": "code",
      "source": [
        "\n",
        "\n",
        "\n",
        "titanic.head (10)"
      ],
      "metadata": {
        "id": "GZNwTM-tGX7K",
        "colab": {
          "base_uri": "https://localhost:8080/",
          "height": 363
        },
        "outputId": "b653855d-6117-4fb8-d8fe-70eae4387c21"
      },
      "execution_count": 497,
      "outputs": [
        {
          "output_type": "execute_result",
          "data": {
            "text/plain": [
              "   Survived  Pclass     Sex   Age  SibSp  Parch     Fare Embarked\n",
              "0         0       3    male  22.0      1      0   7.2500        S\n",
              "1         1       1  female  38.0      1      0  71.2833        C\n",
              "2         1       3  female  26.0      0      0   7.9250        S\n",
              "3         1       1  female  35.0      1      0  53.1000        S\n",
              "4         0       3    male  35.0      0      0   8.0500        S\n",
              "5         0       3    male  54.0      0      0   8.4583        Q\n",
              "6         0       1    male  54.0      0      0  51.8625        S\n",
              "7         0       3    male   2.0      3      1  21.0750        S\n",
              "8         1       3  female  27.0      0      2  11.1333        S\n",
              "9         1       2  female  14.0      1      0  30.0708        C"
            ],
            "text/html": [
              "\n",
              "  <div id=\"df-88147f49-f5a6-417e-b8e7-832b0ba0fb7f\">\n",
              "    <div class=\"colab-df-container\">\n",
              "      <div>\n",
              "<style scoped>\n",
              "    .dataframe tbody tr th:only-of-type {\n",
              "        vertical-align: middle;\n",
              "    }\n",
              "\n",
              "    .dataframe tbody tr th {\n",
              "        vertical-align: top;\n",
              "    }\n",
              "\n",
              "    .dataframe thead th {\n",
              "        text-align: right;\n",
              "    }\n",
              "</style>\n",
              "<table border=\"1\" class=\"dataframe\">\n",
              "  <thead>\n",
              "    <tr style=\"text-align: right;\">\n",
              "      <th></th>\n",
              "      <th>Survived</th>\n",
              "      <th>Pclass</th>\n",
              "      <th>Sex</th>\n",
              "      <th>Age</th>\n",
              "      <th>SibSp</th>\n",
              "      <th>Parch</th>\n",
              "      <th>Fare</th>\n",
              "      <th>Embarked</th>\n",
              "    </tr>\n",
              "  </thead>\n",
              "  <tbody>\n",
              "    <tr>\n",
              "      <th>0</th>\n",
              "      <td>0</td>\n",
              "      <td>3</td>\n",
              "      <td>male</td>\n",
              "      <td>22.0</td>\n",
              "      <td>1</td>\n",
              "      <td>0</td>\n",
              "      <td>7.2500</td>\n",
              "      <td>S</td>\n",
              "    </tr>\n",
              "    <tr>\n",
              "      <th>1</th>\n",
              "      <td>1</td>\n",
              "      <td>1</td>\n",
              "      <td>female</td>\n",
              "      <td>38.0</td>\n",
              "      <td>1</td>\n",
              "      <td>0</td>\n",
              "      <td>71.2833</td>\n",
              "      <td>C</td>\n",
              "    </tr>\n",
              "    <tr>\n",
              "      <th>2</th>\n",
              "      <td>1</td>\n",
              "      <td>3</td>\n",
              "      <td>female</td>\n",
              "      <td>26.0</td>\n",
              "      <td>0</td>\n",
              "      <td>0</td>\n",
              "      <td>7.9250</td>\n",
              "      <td>S</td>\n",
              "    </tr>\n",
              "    <tr>\n",
              "      <th>3</th>\n",
              "      <td>1</td>\n",
              "      <td>1</td>\n",
              "      <td>female</td>\n",
              "      <td>35.0</td>\n",
              "      <td>1</td>\n",
              "      <td>0</td>\n",
              "      <td>53.1000</td>\n",
              "      <td>S</td>\n",
              "    </tr>\n",
              "    <tr>\n",
              "      <th>4</th>\n",
              "      <td>0</td>\n",
              "      <td>3</td>\n",
              "      <td>male</td>\n",
              "      <td>35.0</td>\n",
              "      <td>0</td>\n",
              "      <td>0</td>\n",
              "      <td>8.0500</td>\n",
              "      <td>S</td>\n",
              "    </tr>\n",
              "    <tr>\n",
              "      <th>5</th>\n",
              "      <td>0</td>\n",
              "      <td>3</td>\n",
              "      <td>male</td>\n",
              "      <td>54.0</td>\n",
              "      <td>0</td>\n",
              "      <td>0</td>\n",
              "      <td>8.4583</td>\n",
              "      <td>Q</td>\n",
              "    </tr>\n",
              "    <tr>\n",
              "      <th>6</th>\n",
              "      <td>0</td>\n",
              "      <td>1</td>\n",
              "      <td>male</td>\n",
              "      <td>54.0</td>\n",
              "      <td>0</td>\n",
              "      <td>0</td>\n",
              "      <td>51.8625</td>\n",
              "      <td>S</td>\n",
              "    </tr>\n",
              "    <tr>\n",
              "      <th>7</th>\n",
              "      <td>0</td>\n",
              "      <td>3</td>\n",
              "      <td>male</td>\n",
              "      <td>2.0</td>\n",
              "      <td>3</td>\n",
              "      <td>1</td>\n",
              "      <td>21.0750</td>\n",
              "      <td>S</td>\n",
              "    </tr>\n",
              "    <tr>\n",
              "      <th>8</th>\n",
              "      <td>1</td>\n",
              "      <td>3</td>\n",
              "      <td>female</td>\n",
              "      <td>27.0</td>\n",
              "      <td>0</td>\n",
              "      <td>2</td>\n",
              "      <td>11.1333</td>\n",
              "      <td>S</td>\n",
              "    </tr>\n",
              "    <tr>\n",
              "      <th>9</th>\n",
              "      <td>1</td>\n",
              "      <td>2</td>\n",
              "      <td>female</td>\n",
              "      <td>14.0</td>\n",
              "      <td>1</td>\n",
              "      <td>0</td>\n",
              "      <td>30.0708</td>\n",
              "      <td>C</td>\n",
              "    </tr>\n",
              "  </tbody>\n",
              "</table>\n",
              "</div>\n",
              "      <button class=\"colab-df-convert\" onclick=\"convertToInteractive('df-88147f49-f5a6-417e-b8e7-832b0ba0fb7f')\"\n",
              "              title=\"Convert this dataframe to an interactive table.\"\n",
              "              style=\"display:none;\">\n",
              "        \n",
              "  <svg xmlns=\"http://www.w3.org/2000/svg\" height=\"24px\"viewBox=\"0 0 24 24\"\n",
              "       width=\"24px\">\n",
              "    <path d=\"M0 0h24v24H0V0z\" fill=\"none\"/>\n",
              "    <path d=\"M18.56 5.44l.94 2.06.94-2.06 2.06-.94-2.06-.94-.94-2.06-.94 2.06-2.06.94zm-11 1L8.5 8.5l.94-2.06 2.06-.94-2.06-.94L8.5 2.5l-.94 2.06-2.06.94zm10 10l.94 2.06.94-2.06 2.06-.94-2.06-.94-.94-2.06-.94 2.06-2.06.94z\"/><path d=\"M17.41 7.96l-1.37-1.37c-.4-.4-.92-.59-1.43-.59-.52 0-1.04.2-1.43.59L10.3 9.45l-7.72 7.72c-.78.78-.78 2.05 0 2.83L4 21.41c.39.39.9.59 1.41.59.51 0 1.02-.2 1.41-.59l7.78-7.78 2.81-2.81c.8-.78.8-2.07 0-2.86zM5.41 20L4 18.59l7.72-7.72 1.47 1.35L5.41 20z\"/>\n",
              "  </svg>\n",
              "      </button>\n",
              "      \n",
              "  <style>\n",
              "    .colab-df-container {\n",
              "      display:flex;\n",
              "      flex-wrap:wrap;\n",
              "      gap: 12px;\n",
              "    }\n",
              "\n",
              "    .colab-df-convert {\n",
              "      background-color: #E8F0FE;\n",
              "      border: none;\n",
              "      border-radius: 50%;\n",
              "      cursor: pointer;\n",
              "      display: none;\n",
              "      fill: #1967D2;\n",
              "      height: 32px;\n",
              "      padding: 0 0 0 0;\n",
              "      width: 32px;\n",
              "    }\n",
              "\n",
              "    .colab-df-convert:hover {\n",
              "      background-color: #E2EBFA;\n",
              "      box-shadow: 0px 1px 2px rgba(60, 64, 67, 0.3), 0px 1px 3px 1px rgba(60, 64, 67, 0.15);\n",
              "      fill: #174EA6;\n",
              "    }\n",
              "\n",
              "    [theme=dark] .colab-df-convert {\n",
              "      background-color: #3B4455;\n",
              "      fill: #D2E3FC;\n",
              "    }\n",
              "\n",
              "    [theme=dark] .colab-df-convert:hover {\n",
              "      background-color: #434B5C;\n",
              "      box-shadow: 0px 1px 3px 1px rgba(0, 0, 0, 0.15);\n",
              "      filter: drop-shadow(0px 1px 2px rgba(0, 0, 0, 0.3));\n",
              "      fill: #FFFFFF;\n",
              "    }\n",
              "  </style>\n",
              "\n",
              "      <script>\n",
              "        const buttonEl =\n",
              "          document.querySelector('#df-88147f49-f5a6-417e-b8e7-832b0ba0fb7f button.colab-df-convert');\n",
              "        buttonEl.style.display =\n",
              "          google.colab.kernel.accessAllowed ? 'block' : 'none';\n",
              "\n",
              "        async function convertToInteractive(key) {\n",
              "          const element = document.querySelector('#df-88147f49-f5a6-417e-b8e7-832b0ba0fb7f');\n",
              "          const dataTable =\n",
              "            await google.colab.kernel.invokeFunction('convertToInteractive',\n",
              "                                                     [key], {});\n",
              "          if (!dataTable) return;\n",
              "\n",
              "          const docLinkHtml = 'Like what you see? Visit the ' +\n",
              "            '<a target=\"_blank\" href=https://colab.research.google.com/notebooks/data_table.ipynb>data table notebook</a>'\n",
              "            + ' to learn more about interactive tables.';\n",
              "          element.innerHTML = '';\n",
              "          dataTable['output_type'] = 'display_data';\n",
              "          await google.colab.output.renderOutput(dataTable, element);\n",
              "          const docLink = document.createElement('div');\n",
              "          docLink.innerHTML = docLinkHtml;\n",
              "          element.appendChild(docLink);\n",
              "        }\n",
              "      </script>\n",
              "    </div>\n",
              "  </div>\n",
              "  "
            ]
          },
          "metadata": {},
          "execution_count": 497
        }
      ]
    },
    {
      "cell_type": "code",
      "source": [
        "titanic.info()"
      ],
      "metadata": {
        "id": "Ki4cpmHWEw2O",
        "colab": {
          "base_uri": "https://localhost:8080/"
        },
        "outputId": "5969e9b1-ebda-42e1-ca79-5d5e8c525a5d"
      },
      "execution_count": 498,
      "outputs": [
        {
          "output_type": "stream",
          "name": "stdout",
          "text": [
            "<class 'pandas.core.frame.DataFrame'>\n",
            "RangeIndex: 891 entries, 0 to 890\n",
            "Data columns (total 8 columns):\n",
            " #   Column    Non-Null Count  Dtype  \n",
            "---  ------    --------------  -----  \n",
            " 0   Survived  891 non-null    int64  \n",
            " 1   Pclass    891 non-null    int64  \n",
            " 2   Sex       891 non-null    object \n",
            " 3   Age       891 non-null    float64\n",
            " 4   SibSp     891 non-null    int64  \n",
            " 5   Parch     891 non-null    int64  \n",
            " 6   Fare      891 non-null    float64\n",
            " 7   Embarked  891 non-null    object \n",
            "dtypes: float64(2), int64(4), object(2)\n",
            "memory usage: 55.8+ KB\n"
          ]
        }
      ]
    },
    {
      "cell_type": "code",
      "source": [
        "\n",
        "sns.boxplot(x = 'Survived', y = 'Age', data = titanic)"
      ],
      "metadata": {
        "colab": {
          "base_uri": "https://localhost:8080/",
          "height": 297
        },
        "id": "qoKyAhnCkVGi",
        "outputId": "fa824394-055a-4506-d934-f2a4b0371ebf"
      },
      "execution_count": 499,
      "outputs": [
        {
          "output_type": "execute_result",
          "data": {
            "text/plain": [
              "<matplotlib.axes._subplots.AxesSubplot at 0x7fa0b09ce3d0>"
            ]
          },
          "metadata": {},
          "execution_count": 499
        },
        {
          "output_type": "display_data",
          "data": {
            "text/plain": [
              "<Figure size 432x288 with 1 Axes>"
            ],
            "image/png": "[encoded data removed]"
          },
          "metadata": {
            "needs_background": "light"
          }
        }
      ]
    },
    {
      "cell_type": "code",
      "source": [
        "\n",
        "\n",
        "\n",
        "sns.boxplot(x = 'Survived', y = 'Pclass', data = titanic)"
      ],
      "metadata": {
        "colab": {
          "base_uri": "https://localhost:8080/",
          "height": 297
        },
        "id": "0LG1_tpzkegt",
        "outputId": "b8351866-9da0-4d03-c3d7-5b5b6223f444"
      },
      "execution_count": 500,
      "outputs": [
        {
          "output_type": "execute_result",
          "data": {
            "text/plain": [
              "<matplotlib.axes._subplots.AxesSubplot at 0x7fa0b08e9f50>"
            ]
          },
          "metadata": {},
          "execution_count": 500
        },
        {
          "output_type": "display_data",
          "data": {
            "text/plain": [
              "<Figure size 432x288 with 1 Axes>"
            ],
            "image/png": "[encoded data removed]"
          },
          "metadata": {
            "needs_background": "light"
          }
        }
      ]
    },
    {
      "cell_type": "code",
      "source": [
        "sns.boxplot(x = 'Survived', y = 'Parch', data = titanic)"
      ],
      "metadata": {
        "colab": {
          "base_uri": "https://localhost:8080/",
          "height": 297
        },
        "id": "ktr0Dn1ulfms",
        "outputId": "4b196a42-ed94-4a91-dcbf-34b9744ab08c"
      },
      "execution_count": 501,
      "outputs": [
        {
          "output_type": "execute_result",
          "data": {
            "text/plain": [
              "<matplotlib.axes._subplots.AxesSubplot at 0x7fa0b08772d0>"
            ]
          },
          "metadata": {},
          "execution_count": 501
        },
        {
          "output_type": "display_data",
          "data": {
            "text/plain": [
              "<Figure size 432x288 with 1 Axes>"
            ],
            "image/png": "[encoded data removed]"
          },
          "metadata": {
            "needs_background": "light"
          }
        }
      ]
    },
    {
      "cell_type": "code",
      "source": [
        "\n",
        "\n",
        "\n",
        "\n",
        "\n",
        "\n",
        "sns.boxplot(x = 'Survived', y = 'Sex', data = titanic)"
      ],
      "metadata": {
        "colab": {
          "base_uri": "https://localhost:8080/",
          "height": 297
        },
        "id": "P3K5djLhvbCz",
        "outputId": "dde02cf1-cede-420f-df08-901a4b85d9c7"
      },
      "execution_count": 502,
      "outputs": [
        {
          "output_type": "execute_result",
          "data": {
            "text/plain": [
              "<matplotlib.axes._subplots.AxesSubplot at 0x7fa0b07f9210>"
            ]
          },
          "metadata": {},
          "execution_count": 502
        },
        {
          "output_type": "display_data",
          "data": {
            "text/plain": [
              "<Figure size 432x288 with 1 Axes>"
            ],
            "image/png": "[encoded data removed]"
          },
          "metadata": {
            "needs_background": "light"
          }
        }
      ]
    },
    {
      "cell_type": "code",
      "source": [
        "\n",
        "\n",
        "sns.boxplot(x = 'Survived', y = 'SibSp', data = titanic)"
      ],
      "metadata": {
        "colab": {
          "base_uri": "https://localhost:8080/",
          "height": 297
        },
        "id": "DZQU2BCNlonx",
        "outputId": "4cf05b87-b306-4a14-f3b9-7acf2158679a"
      },
      "execution_count": 503,
      "outputs": [
        {
          "output_type": "execute_result",
          "data": {
            "text/plain": [
              "<matplotlib.axes._subplots.AxesSubplot at 0x7fa0b0776c90>"
            ]
          },
          "metadata": {},
          "execution_count": 503
        },
        {
          "output_type": "display_data",
          "data": {
            "text/plain": [
              "<Figure size 432x288 with 1 Axes>"
            ],
            "image/png": "[encoded data removed]"
          },
          "metadata": {
            "needs_background": "light"
          }
        }
      ]
    },
    {
      "cell_type": "code",
      "source": [
        "\n",
        "sns.boxplot(x = 'Survived', y = 'Fare', data = titanic)"
      ],
      "metadata": {
        "colab": {
          "base_uri": "https://localhost:8080/",
          "height": 297
        },
        "id": "oG1-21Gru0XM",
        "outputId": "211f5dd6-b73c-4639-89f3-6b6d726d12f7"
      },
      "execution_count": 504,
      "outputs": [
        {
          "output_type": "execute_result",
          "data": {
            "text/plain": [
              "<matplotlib.axes._subplots.AxesSubplot at 0x7fa0b068c790>"
            ]
          },
          "metadata": {},
          "execution_count": 504
        },
        {
          "output_type": "display_data",
          "data": {
            "text/plain": [
              "<Figure size 432x288 with 1 Axes>"
            ],
            "image/png": "[encoded data removed]"
          },
          "metadata": {
            "needs_background": "light"
          }
        }
      ]
    },
    {
      "cell_type": "code",
      "source": [
        "\n",
        "\n",
        "\n",
        "sns.boxplot(x = 'Survived', y = 'Embarked', data = titanic)"
      ],
      "metadata": {
        "colab": {
          "base_uri": "https://localhost:8080/",
          "height": 297
        },
        "id": "FhwwWSG-tnxB",
        "outputId": "08e50244-9b22-4501-c61d-f169fba7d244"
      },
      "execution_count": 505,
      "outputs": [
        {
          "output_type": "execute_result",
          "data": {
            "text/plain": [
              "<matplotlib.axes._subplots.AxesSubplot at 0x7fa0b0676a50>"
            ]
          },
          "metadata": {},
          "execution_count": 505
        },
        {
          "output_type": "display_data",
          "data": {
            "text/plain": [
              "<Figure size 432x288 with 1 Axes>"
            ],
            "image/png": "[encoded data removed]"
          },
          "metadata": {
            "needs_background": "light"
          }
        }
      ]
    },
    {
      "cell_type": "code",
      "source": [
        "\n",
        "from sklearn import metrics \n",
        "from sklearn.model_selection import train_test_split"
      ],
      "metadata": {
        "id": "tE1MqLQuroUm"
      },
      "execution_count": 506,
      "outputs": []
    },
    {
      "cell_type": "code",
      "execution_count": 507,
      "metadata": {
        "id": "uF40UNW2aFu_"
      },
      "outputs": [],
      "source": [
        " X = titanic.drop(['Survived'], axis = 'columns')\n",
        " y = titanic['Survived']\n"
      ]
    },
    {
      "cell_type": "code",
      "source": [
        "titanic.drop( [\"Embarked\"], axis= \"columns\", inplace= True)"
      ],
      "metadata": {
        "id": "weUGc5f_mS93"
      },
      "execution_count": 508,
      "outputs": []
    },
    {
      "cell_type": "code",
      "source": [
        " X.head()"
      ],
      "metadata": {
        "id": "C7KbIsyddf_H",
        "colab": {
          "base_uri": "https://localhost:8080/",
          "height": 206
        },
        "outputId": "18e8df4d-fe7a-4455-ce08-20824703d874"
      },
      "execution_count": 509,
      "outputs": [
        {
          "output_type": "execute_result",
          "data": {
            "text/plain": [
              "   Pclass     Sex   Age  SibSp  Parch     Fare Embarked\n",
              "0       3    male  22.0      1      0   7.2500        S\n",
              "1       1  female  38.0      1      0  71.2833        C\n",
              "2       3  female  26.0      0      0   7.9250        S\n",
              "3       1  female  35.0      1      0  53.1000        S\n",
              "4       3    male  35.0      0      0   8.0500        S"
            ],
            "text/html": [
              "\n",
              "  <div id=\"df-16c4b4bc-fb11-487f-a6e4-39c1c9eaba9f\">\n",
              "    <div class=\"colab-df-container\">\n",
              "      <div>\n",
              "<style scoped>\n",
              "    .dataframe tbody tr th:only-of-type {\n",
              "        vertical-align: middle;\n",
              "    }\n",
              "\n",
              "    .dataframe tbody tr th {\n",
              "        vertical-align: top;\n",
              "    }\n",
              "\n",
              "    .dataframe thead th {\n",
              "        text-align: right;\n",
              "    }\n",
              "</style>\n",
              "<table border=\"1\" class=\"dataframe\">\n",
              "  <thead>\n",
              "    <tr style=\"text-align: right;\">\n",
              "      <th></th>\n",
              "      <th>Pclass</th>\n",
              "      <th>Sex</th>\n",
              "      <th>Age</th>\n",
              "      <th>SibSp</th>\n",
              "      <th>Parch</th>\n",
              "      <th>Fare</th>\n",
              "      <th>Embarked</th>\n",
              "    </tr>\n",
              "  </thead>\n",
              "  <tbody>\n",
              "    <tr>\n",
              "      <th>0</th>\n",
              "      <td>3</td>\n",
              "      <td>male</td>\n",
              "      <td>22.0</td>\n",
              "      <td>1</td>\n",
              "      <td>0</td>\n",
              "      <td>7.2500</td>\n",
              "      <td>S</td>\n",
              "    </tr>\n",
              "    <tr>\n",
              "      <th>1</th>\n",
              "      <td>1</td>\n",
              "      <td>female</td>\n",
              "      <td>38.0</td>\n",
              "      <td>1</td>\n",
              "      <td>0</td>\n",
              "      <td>71.2833</td>\n",
              "      <td>C</td>\n",
              "    </tr>\n",
              "    <tr>\n",
              "      <th>2</th>\n",
              "      <td>3</td>\n",
              "      <td>female</td>\n",
              "      <td>26.0</td>\n",
              "      <td>0</td>\n",
              "      <td>0</td>\n",
              "      <td>7.9250</td>\n",
              "      <td>S</td>\n",
              "    </tr>\n",
              "    <tr>\n",
              "      <th>3</th>\n",
              "      <td>1</td>\n",
              "      <td>female</td>\n",
              "      <td>35.0</td>\n",
              "      <td>1</td>\n",
              "      <td>0</td>\n",
              "      <td>53.1000</td>\n",
              "      <td>S</td>\n",
              "    </tr>\n",
              "    <tr>\n",
              "      <th>4</th>\n",
              "      <td>3</td>\n",
              "      <td>male</td>\n",
              "      <td>35.0</td>\n",
              "      <td>0</td>\n",
              "      <td>0</td>\n",
              "      <td>8.0500</td>\n",
              "      <td>S</td>\n",
              "    </tr>\n",
              "  </tbody>\n",
              "</table>\n",
              "</div>\n",
              "      <button class=\"colab-df-convert\" onclick=\"convertToInteractive('df-16c4b4bc-fb11-487f-a6e4-39c1c9eaba9f')\"\n",
              "              title=\"Convert this dataframe to an interactive table.\"\n",
              "              style=\"display:none;\">\n",
              "        \n",
              "  <svg xmlns=\"http://www.w3.org/2000/svg\" height=\"24px\"viewBox=\"0 0 24 24\"\n",
              "       width=\"24px\">\n",
              "    <path d=\"M0 0h24v24H0V0z\" fill=\"none\"/>\n",
              "    <path d=\"M18.56 5.44l.94 2.06.94-2.06 2.06-.94-2.06-.94-.94-2.06-.94 2.06-2.06.94zm-11 1L8.5 8.5l.94-2.06 2.06-.94-2.06-.94L8.5 2.5l-.94 2.06-2.06.94zm10 10l.94 2.06.94-2.06 2.06-.94-2.06-.94-.94-2.06-.94 2.06-2.06.94z\"/><path d=\"M17.41 7.96l-1.37-1.37c-.4-.4-.92-.59-1.43-.59-.52 0-1.04.2-1.43.59L10.3 9.45l-7.72 7.72c-.78.78-.78 2.05 0 2.83L4 21.41c.39.39.9.59 1.41.59.51 0 1.02-.2 1.41-.59l7.78-7.78 2.81-2.81c.8-.78.8-2.07 0-2.86zM5.41 20L4 18.59l7.72-7.72 1.47 1.35L5.41 20z\"/>\n",
              "  </svg>\n",
              "      </button>\n",
              "      \n",
              "  <style>\n",
              "    .colab-df-container {\n",
              "      display:flex;\n",
              "      flex-wrap:wrap;\n",
              "      gap: 12px;\n",
              "    }\n",
              "\n",
              "    .colab-df-convert {\n",
              "      background-color: #E8F0FE;\n",
              "      border: none;\n",
              "      border-radius: 50%;\n",
              "      cursor: pointer;\n",
              "      display: none;\n",
              "      fill: #1967D2;\n",
              "      height: 32px;\n",
              "      padding: 0 0 0 0;\n",
              "      width: 32px;\n",
              "    }\n",
              "\n",
              "    .colab-df-convert:hover {\n",
              "      background-color: #E2EBFA;\n",
              "      box-shadow: 0px 1px 2px rgba(60, 64, 67, 0.3), 0px 1px 3px 1px rgba(60, 64, 67, 0.15);\n",
              "      fill: #174EA6;\n",
              "    }\n",
              "\n",
              "    [theme=dark] .colab-df-convert {\n",
              "      background-color: #3B4455;\n",
              "      fill: #D2E3FC;\n",
              "    }\n",
              "\n",
              "    [theme=dark] .colab-df-convert:hover {\n",
              "      background-color: #434B5C;\n",
              "      box-shadow: 0px 1px 3px 1px rgba(0, 0, 0, 0.15);\n",
              "      filter: drop-shadow(0px 1px 2px rgba(0, 0, 0, 0.3));\n",
              "      fill: #FFFFFF;\n",
              "    }\n",
              "  </style>\n",
              "\n",
              "      <script>\n",
              "        const buttonEl =\n",
              "          document.querySelector('#df-16c4b4bc-fb11-487f-a6e4-39c1c9eaba9f button.colab-df-convert');\n",
              "        buttonEl.style.display =\n",
              "          google.colab.kernel.accessAllowed ? 'block' : 'none';\n",
              "\n",
              "        async function convertToInteractive(key) {\n",
              "          const element = document.querySelector('#df-16c4b4bc-fb11-487f-a6e4-39c1c9eaba9f');\n",
              "          const dataTable =\n",
              "            await google.colab.kernel.invokeFunction('convertToInteractive',\n",
              "                                                     [key], {});\n",
              "          if (!dataTable) return;\n",
              "\n",
              "          const docLinkHtml = 'Like what you see? Visit the ' +\n",
              "            '<a target=\"_blank\" href=https://colab.research.google.com/notebooks/data_table.ipynb>data table notebook</a>'\n",
              "            + ' to learn more about interactive tables.';\n",
              "          element.innerHTML = '';\n",
              "          dataTable['output_type'] = 'display_data';\n",
              "          await google.colab.output.renderOutput(dataTable, element);\n",
              "          const docLink = document.createElement('div');\n",
              "          docLink.innerHTML = docLinkHtml;\n",
              "          element.appendChild(docLink);\n",
              "        }\n",
              "      </script>\n",
              "    </div>\n",
              "  </div>\n",
              "  "
            ]
          },
          "metadata": {},
          "execution_count": 509
        }
      ]
    },
    {
      "cell_type": "code",
      "source": [
        "\n",
        "y.head()"
      ],
      "metadata": {
        "id": "0x9joNdfdnYp",
        "colab": {
          "base_uri": "https://localhost:8080/"
        },
        "outputId": "61fce591-ef0b-424a-f0c8-fd636f7de441"
      },
      "execution_count": 510,
      "outputs": [
        {
          "output_type": "execute_result",
          "data": {
            "text/plain": [
              "0    0\n",
              "1    1\n",
              "2    1\n",
              "3    1\n",
              "4    0\n",
              "Name: Survived, dtype: int64"
            ]
          },
          "metadata": {},
          "execution_count": 510
        }
      ]
    },
    {
      "cell_type": "code",
      "source": [
        "X = pd.get_dummies(X)\n",
        "X.head()\n"
      ],
      "metadata": {
        "id": "dZPhsC7WdtT8",
        "colab": {
          "base_uri": "https://localhost:8080/",
          "height": 206
        },
        "outputId": "3465b29e-4e2a-4fb7-e7e9-d4acacc5b4ed"
      },
      "execution_count": 511,
      "outputs": [
        {
          "output_type": "execute_result",
          "data": {
            "text/plain": [
              "   Pclass   Age  SibSp  Parch     Fare  Sex_female  Sex_male  Embarked_C  \\\n",
              "0       3  22.0      1      0   7.2500           0         1           0   \n",
              "1       1  38.0      1      0  71.2833           1         0           1   \n",
              "2       3  26.0      0      0   7.9250           1         0           0   \n",
              "3       1  35.0      1      0  53.1000           1         0           0   \n",
              "4       3  35.0      0      0   8.0500           0         1           0   \n",
              "\n",
              "   Embarked_Q  Embarked_S  \n",
              "0           0           1  \n",
              "1           0           0  \n",
              "2           0           1  \n",
              "3           0           1  \n",
              "4           0           1  "
            ],
            "text/html": [
              "\n",
              "  <div id=\"df-bbfecacc-f1f3-42fe-9c24-967cb8d227e3\">\n",
              "    <div class=\"colab-df-container\">\n",
              "      <div>\n",
              "<style scoped>\n",
              "    .dataframe tbody tr th:only-of-type {\n",
              "        vertical-align: middle;\n",
              "    }\n",
              "\n",
              "    .dataframe tbody tr th {\n",
              "        vertical-align: top;\n",
              "    }\n",
              "\n",
              "    .dataframe thead th {\n",
              "        text-align: right;\n",
              "    }\n",
              "</style>\n",
              "<table border=\"1\" class=\"dataframe\">\n",
              "  <thead>\n",
              "    <tr style=\"text-align: right;\">\n",
              "      <th></th>\n",
              "      <th>Pclass</th>\n",
              "      <th>Age</th>\n",
              "      <th>SibSp</th>\n",
              "      <th>Parch</th>\n",
              "      <th>Fare</th>\n",
              "      <th>Sex_female</th>\n",
              "      <th>Sex_male</th>\n",
              "      <th>Embarked_C</th>\n",
              "      <th>Embarked_Q</th>\n",
              "      <th>Embarked_S</th>\n",
              "    </tr>\n",
              "  </thead>\n",
              "  <tbody>\n",
              "    <tr>\n",
              "      <th>0</th>\n",
              "      <td>3</td>\n",
              "      <td>22.0</td>\n",
              "      <td>1</td>\n",
              "      <td>0</td>\n",
              "      <td>7.2500</td>\n",
              "      <td>0</td>\n",
              "      <td>1</td>\n",
              "      <td>0</td>\n",
              "      <td>0</td>\n",
              "      <td>1</td>\n",
              "    </tr>\n",
              "    <tr>\n",
              "      <th>1</th>\n",
              "      <td>1</td>\n",
              "      <td>38.0</td>\n",
              "      <td>1</td>\n",
              "      <td>0</td>\n",
              "      <td>71.2833</td>\n",
              "      <td>1</td>\n",
              "      <td>0</td>\n",
              "      <td>1</td>\n",
              "      <td>0</td>\n",
              "      <td>0</td>\n",
              "    </tr>\n",
              "    <tr>\n",
              "      <th>2</th>\n",
              "      <td>3</td>\n",
              "      <td>26.0</td>\n",
              "      <td>0</td>\n",
              "      <td>0</td>\n",
              "      <td>7.9250</td>\n",
              "      <td>1</td>\n",
              "      <td>0</td>\n",
              "      <td>0</td>\n",
              "      <td>0</td>\n",
              "      <td>1</td>\n",
              "    </tr>\n",
              "    <tr>\n",
              "      <th>3</th>\n",
              "      <td>1</td>\n",
              "      <td>35.0</td>\n",
              "      <td>1</td>\n",
              "      <td>0</td>\n",
              "      <td>53.1000</td>\n",
              "      <td>1</td>\n",
              "      <td>0</td>\n",
              "      <td>0</td>\n",
              "      <td>0</td>\n",
              "      <td>1</td>\n",
              "    </tr>\n",
              "    <tr>\n",
              "      <th>4</th>\n",
              "      <td>3</td>\n",
              "      <td>35.0</td>\n",
              "      <td>0</td>\n",
              "      <td>0</td>\n",
              "      <td>8.0500</td>\n",
              "      <td>0</td>\n",
              "      <td>1</td>\n",
              "      <td>0</td>\n",
              "      <td>0</td>\n",
              "      <td>1</td>\n",
              "    </tr>\n",
              "  </tbody>\n",
              "</table>\n",
              "</div>\n",
              "      <button class=\"colab-df-convert\" onclick=\"convertToInteractive('df-bbfecacc-f1f3-42fe-9c24-967cb8d227e3')\"\n",
              "              title=\"Convert this dataframe to an interactive table.\"\n",
              "              style=\"display:none;\">\n",
              "        \n",
              "  <svg xmlns=\"http://www.w3.org/2000/svg\" height=\"24px\"viewBox=\"0 0 24 24\"\n",
              "       width=\"24px\">\n",
              "    <path d=\"M0 0h24v24H0V0z\" fill=\"none\"/>\n",
              "    <path d=\"M18.56 5.44l.94 2.06.94-2.06 2.06-.94-2.06-.94-.94-2.06-.94 2.06-2.06.94zm-11 1L8.5 8.5l.94-2.06 2.06-.94-2.06-.94L8.5 2.5l-.94 2.06-2.06.94zm10 10l.94 2.06.94-2.06 2.06-.94-2.06-.94-.94-2.06-.94 2.06-2.06.94z\"/><path d=\"M17.41 7.96l-1.37-1.37c-.4-.4-.92-.59-1.43-.59-.52 0-1.04.2-1.43.59L10.3 9.45l-7.72 7.72c-.78.78-.78 2.05 0 2.83L4 21.41c.39.39.9.59 1.41.59.51 0 1.02-.2 1.41-.59l7.78-7.78 2.81-2.81c.8-.78.8-2.07 0-2.86zM5.41 20L4 18.59l7.72-7.72 1.47 1.35L5.41 20z\"/>\n",
              "  </svg>\n",
              "      </button>\n",
              "      \n",
              "  <style>\n",
              "    .colab-df-container {\n",
              "      display:flex;\n",
              "      flex-wrap:wrap;\n",
              "      gap: 12px;\n",
              "    }\n",
              "\n",
              "    .colab-df-convert {\n",
              "      background-color: #E8F0FE;\n",
              "      border: none;\n",
              "      border-radius: 50%;\n",
              "      cursor: pointer;\n",
              "      display: none;\n",
              "      fill: #1967D2;\n",
              "      height: 32px;\n",
              "      padding: 0 0 0 0;\n",
              "      width: 32px;\n",
              "    }\n",
              "\n",
              "    .colab-df-convert:hover {\n",
              "      background-color: #E2EBFA;\n",
              "      box-shadow: 0px 1px 2px rgba(60, 64, 67, 0.3), 0px 1px 3px 1px rgba(60, 64, 67, 0.15);\n",
              "      fill: #174EA6;\n",
              "    }\n",
              "\n",
              "    [theme=dark] .colab-df-convert {\n",
              "      background-color: #3B4455;\n",
              "      fill: #D2E3FC;\n",
              "    }\n",
              "\n",
              "    [theme=dark] .colab-df-convert:hover {\n",
              "      background-color: #434B5C;\n",
              "      box-shadow: 0px 1px 3px 1px rgba(0, 0, 0, 0.15);\n",
              "      filter: drop-shadow(0px 1px 2px rgba(0, 0, 0, 0.3));\n",
              "      fill: #FFFFFF;\n",
              "    }\n",
              "  </style>\n",
              "\n",
              "      <script>\n",
              "        const buttonEl =\n",
              "          document.querySelector('#df-bbfecacc-f1f3-42fe-9c24-967cb8d227e3 button.colab-df-convert');\n",
              "        buttonEl.style.display =\n",
              "          google.colab.kernel.accessAllowed ? 'block' : 'none';\n",
              "\n",
              "        async function convertToInteractive(key) {\n",
              "          const element = document.querySelector('#df-bbfecacc-f1f3-42fe-9c24-967cb8d227e3');\n",
              "          const dataTable =\n",
              "            await google.colab.kernel.invokeFunction('convertToInteractive',\n",
              "                                                     [key], {});\n",
              "          if (!dataTable) return;\n",
              "\n",
              "          const docLinkHtml = 'Like what you see? Visit the ' +\n",
              "            '<a target=\"_blank\" href=https://colab.research.google.com/notebooks/data_table.ipynb>data table notebook</a>'\n",
              "            + ' to learn more about interactive tables.';\n",
              "          element.innerHTML = '';\n",
              "          dataTable['output_type'] = 'display_data';\n",
              "          await google.colab.output.renderOutput(dataTable, element);\n",
              "          const docLink = document.createElement('div');\n",
              "          docLink.innerHTML = docLinkHtml;\n",
              "          element.appendChild(docLink);\n",
              "        }\n",
              "      </script>\n",
              "    </div>\n",
              "  </div>\n",
              "  "
            ]
          },
          "metadata": {},
          "execution_count": 511
        }
      ]
    },
    {
      "cell_type": "code",
      "source": [
        "X.shape"
      ],
      "metadata": {
        "id": "8VY4oDIKeCr8",
        "colab": {
          "base_uri": "https://localhost:8080/"
        },
        "outputId": "83625992-cbce-4906-c16f-c0d322bc3abc"
      },
      "execution_count": 512,
      "outputs": [
        {
          "output_type": "execute_result",
          "data": {
            "text/plain": [
              "(891, 10)"
            ]
          },
          "metadata": {},
          "execution_count": 512
        }
      ]
    },
    {
      "cell_type": "code",
      "source": [
        "\n",
        "X_train, X_test, y_train, y_test = train_test_split(X, y, test_size = 0.20, random_state = 42)"
      ],
      "metadata": {
        "id": "qy4Us4XteIRE"
      },
      "execution_count": 513,
      "outputs": []
    },
    {
      "cell_type": "code",
      "source": [
        "from sklearn.linear_model import LogisticRegression\n",
        "\n",
        "logisticmodel = LogisticRegression()\n",
        "logisticmodel.fit(X_train, y_train)"
      ],
      "metadata": {
        "id": "B9HLPoAwkY7T",
        "colab": {
          "base_uri": "https://localhost:8080/"
        },
        "outputId": "e31fa9db-e9c1-4ada-d964-70fb01459ddd"
      },
      "execution_count": 514,
      "outputs": [
        {
          "output_type": "stream",
          "name": "stderr",
          "text": [
            "/usr/local/lib/python3.7/dist-packages/sklearn/linear_model/_logistic.py:818: ConvergenceWarning: lbfgs failed to converge (status=1):\n",
            "STOP: TOTAL NO. of ITERATIONS REACHED LIMIT.\n",
            "\n",
            "Increase the number of iterations (max_iter) or scale the data as shown in:\n",
            "    https://scikit-learn.org/stable/modules/preprocessing.html\n",
            "Please also refer to the documentation for alternative solver options:\n",
            "    https://scikit-learn.org/stable/modules/linear_model.html#logistic-regression\n",
            "  extra_warning_msg=_LOGISTIC_SOLVER_CONVERGENCE_MSG,\n"
          ]
        },
        {
          "output_type": "execute_result",
          "data": {
            "text/plain": [
              "LogisticRegression()"
            ]
          },
          "metadata": {},
          "execution_count": 514
        }
      ]
    },
    {
      "cell_type": "code",
      "source": [
        "\n",
        "logistic_prediction = logisticmodel.predict(X_test)"
      ],
      "metadata": {
        "id": "2a05m_NCK89y"
      },
      "execution_count": 515,
      "outputs": []
    },
    {
      "cell_type": "code",
      "source": [
        "\n",
        "def ConfusionMatrix (ytest, ypred, label = ['Negative', 'Positive']):\n",
        "  from sklearn.metrics import confusion_matrix\n",
        "  import seaborn as sns\n",
        "  cm = confusion_matrix(ytest, ypred)\n",
        "  plt.figure(figsize=(7, 5))\n",
        "  sns.heatmap(cm, annot = True, cbar = False, fmt = 'd', cmap = 'winter')\n",
        "  plt.xlabel('Predicted', fontsize = 13)\n",
        "  plt.xticks ( [0.5, 1.5], label)\n",
        "  plt.yticks ( [0.5, 1.5], label)\n",
        "  plt.ylabel('Truth', fontsize = 13)\n",
        "  plt.title('A confusion matrix');\n",
        "\n",
        "  "
      ],
      "metadata": {
        "id": "2jeONLVvLL2q"
      },
      "execution_count": 516,
      "outputs": []
    },
    {
      "cell_type": "code",
      "source": [
        "\n",
        "ConfusionMatrix(y_test, logistic_prediction, label= [\"Survived\", \"Not-Survived\"])"
      ],
      "metadata": {
        "id": "lLpkMbJLLZgG",
        "colab": {
          "base_uri": "https://localhost:8080/",
          "height": 353
        },
        "outputId": "21d04c4f-e31e-481a-c93e-2c2eb1c5b1cf"
      },
      "execution_count": 517,
      "outputs": [
        {
          "output_type": "display_data",
          "data": {
            "text/plain": [
              "<Figure size 504x360 with 1 Axes>"
            ],
            "image/png": "[encoded data removed]"
          },
          "metadata": {
            "needs_background": "light"
          }
        }
      ]
    },
    {
      "cell_type": "code",
      "source": [
        "\n",
        "\n",
        "metrics.accuracy_score(y_test, logistic_prediction)"
      ],
      "metadata": {
        "id": "n831WaixLl-9",
        "colab": {
          "base_uri": "https://localhost:8080/"
        },
        "outputId": "78144717-6495-46e4-bef0-91ec2edc73a1"
      },
      "execution_count": 518,
      "outputs": [
        {
          "output_type": "execute_result",
          "data": {
            "text/plain": [
              "0.7877094972067039"
            ]
          },
          "metadata": {},
          "execution_count": 518
        }
      ]
    },
    {
      "cell_type": "code",
      "source": [
        "print(metrics.classification_report(y_test, logistic_prediction))"
      ],
      "metadata": {
        "id": "ZIj--eQiLp0d",
        "colab": {
          "base_uri": "https://localhost:8080/"
        },
        "outputId": "d64acbc7-766a-498f-c341-8fa9752ab306"
      },
      "execution_count": 519,
      "outputs": [
        {
          "output_type": "stream",
          "name": "stdout",
          "text": [
            "              precision    recall  f1-score   support\n",
            "\n",
            "           0       0.81      0.84      0.82       105\n",
            "           1       0.76      0.72      0.74        74\n",
            "\n",
            "    accuracy                           0.79       179\n",
            "   macro avg       0.78      0.78      0.78       179\n",
            "weighted avg       0.79      0.79      0.79       179\n",
            "\n"
          ]
        }
      ]
    },
    {
      "cell_type": "code",
      "source": [
        "\n",
        "\n",
        "from sklearn.metrics import f1_score\n",
        "print(f1_score(y_test, logistic_prediction))"
      ],
      "metadata": {
        "colab": {
          "base_uri": "https://localhost:8080/"
        },
        "id": "FKVqxUilwXgl",
        "outputId": "ed111b80-47d8-498e-a73a-48bd67d6aded"
      },
      "execution_count": 520,
      "outputs": [
        {
          "output_type": "stream",
          "name": "stdout",
          "text": [
            "0.736111111111111\n"
          ]
        }
      ]
    },
    {
      "cell_type": "code",
      "source": [
        "\n",
        "\n",
        "from sklearn.ensemble import RandomForestClassifier\n",
        "randomforestmodel = RandomForestClassifier()\n",
        "randomforestmodel.fit(X_train, y_train)\n",
        "\n"
      ],
      "metadata": {
        "colab": {
          "base_uri": "https://localhost:8080/"
        },
        "id": "YNOhIPzULuBn",
        "outputId": "8e357537-a902-4830-efc3-6545e876a4dc"
      },
      "execution_count": 521,
      "outputs": [
        {
          "output_type": "execute_result",
          "data": {
            "text/plain": [
              "RandomForestClassifier()"
            ]
          },
          "metadata": {},
          "execution_count": 521
        }
      ]
    },
    {
      "cell_type": "code",
      "source": [
        "rf_prediction = randomforestmodel.predict(X_test)"
      ],
      "metadata": {
        "id": "M8L3JuRZL6LZ"
      },
      "execution_count": 522,
      "outputs": []
    },
    {
      "cell_type": "code",
      "source": [
        "ConfusionMatrix(y_test, rf_prediction, label= [\"Survived\", \"Not-Survived\"])"
      ],
      "metadata": {
        "id": "pm_AJisnL_d5",
        "colab": {
          "base_uri": "https://localhost:8080/",
          "height": 353
        },
        "outputId": "a3e486b5-2be2-40e5-b2cb-f8f6fbb1e459"
      },
      "execution_count": 523,
      "outputs": [
        {
          "output_type": "display_data",
          "data": {
            "text/plain": [
              "<Figure size 504x360 with 1 Axes>"
            ],
            "image/png": "[encoded data removed]"
          },
          "metadata": {
            "needs_background": "light"
          }
        }
      ]
    },
    {
      "cell_type": "code",
      "source": [
        "metrics.accuracy_score(y_test, rf_prediction)"
      ],
      "metadata": {
        "id": "lN1TCINpMMJk",
        "colab": {
          "base_uri": "https://localhost:8080/"
        },
        "outputId": "5a587283-6d04-40f3-b196-1b446ed8e359"
      },
      "execution_count": 524,
      "outputs": [
        {
          "output_type": "execute_result",
          "data": {
            "text/plain": [
              "0.8100558659217877"
            ]
          },
          "metadata": {},
          "execution_count": 524
        }
      ]
    },
    {
      "cell_type": "code",
      "source": [
        "\n",
        "print(metrics.classification_report(y_test, rf_prediction))"
      ],
      "metadata": {
        "id": "T3sY7UiGMQd3",
        "colab": {
          "base_uri": "https://localhost:8080/"
        },
        "outputId": "ff6aa1c8-6e17-4c63-9e06-34cfa3e617a5"
      },
      "execution_count": 525,
      "outputs": [
        {
          "output_type": "stream",
          "name": "stdout",
          "text": [
            "              precision    recall  f1-score   support\n",
            "\n",
            "           0       0.84      0.84      0.84       105\n",
            "           1       0.77      0.77      0.77        74\n",
            "\n",
            "    accuracy                           0.81       179\n",
            "   macro avg       0.80      0.80      0.80       179\n",
            "weighted avg       0.81      0.81      0.81       179\n",
            "\n"
          ]
        }
      ]
    },
    {
      "cell_type": "code",
      "source": [
        "\n",
        "from sklearn.ensemble import RandomForestClassifier\n",
        "randomforestmodel = RandomForestClassifier(n_estimators= 10)\n",
        "randomforestmodel.fit(X_train, y_train)\n",
        "\n"
      ],
      "metadata": {
        "colab": {
          "base_uri": "https://localhost:8080/"
        },
        "id": "cW98iz9yMjNx",
        "outputId": "9c8054e9-1116-4d92-8250-08606ec32790"
      },
      "execution_count": 526,
      "outputs": [
        {
          "output_type": "execute_result",
          "data": {
            "text/plain": [
              "RandomForestClassifier(n_estimators=10)"
            ]
          },
          "metadata": {},
          "execution_count": 526
        }
      ]
    },
    {
      "cell_type": "code",
      "source": [
        "\n",
        "\n",
        "rf_prediction = randomforestmodel.predict(X_test)"
      ],
      "metadata": {
        "id": "KiZZQ7nZMmag"
      },
      "execution_count": 527,
      "outputs": []
    },
    {
      "cell_type": "code",
      "source": [
        "\n",
        "ConfusionMatrix(y_test, rf_prediction, label= [\"Survived\", \"Not-Survived\"])"
      ],
      "metadata": {
        "id": "E8TWjPuJMqo8",
        "colab": {
          "base_uri": "https://localhost:8080/",
          "height": 353
        },
        "outputId": "fa6cbb12-9e0c-4a36-dea3-5adde71e0f61"
      },
      "execution_count": 528,
      "outputs": [
        {
          "output_type": "display_data",
          "data": {
            "text/plain": [
              "<Figure size 504x360 with 1 Axes>"
            ],
            "image/png": "[encoded data removed]"
          },
          "metadata": {
            "needs_background": "light"
          }
        }
      ]
    },
    {
      "cell_type": "code",
      "source": [
        "metrics.accuracy_score(y_test, rf_prediction)"
      ],
      "metadata": {
        "id": "oJE6HPQCMyvc",
        "colab": {
          "base_uri": "https://localhost:8080/"
        },
        "outputId": "83d4815d-790c-4fb5-c986-3bc4acff4adb"
      },
      "execution_count": 529,
      "outputs": [
        {
          "output_type": "execute_result",
          "data": {
            "text/plain": [
              "0.8156424581005587"
            ]
          },
          "metadata": {},
          "execution_count": 529
        }
      ]
    },
    {
      "cell_type": "code",
      "source": [
        "\n",
        "\n",
        "\n",
        "print(metrics.classification_report(y_test, rf_prediction))"
      ],
      "metadata": {
        "id": "v2IRUdMHM7NT",
        "colab": {
          "base_uri": "https://localhost:8080/"
        },
        "outputId": "6c097a1c-5342-4fe6-f419-c335d4f46bdd"
      },
      "execution_count": 530,
      "outputs": [
        {
          "output_type": "stream",
          "name": "stdout",
          "text": [
            "              precision    recall  f1-score   support\n",
            "\n",
            "           0       0.85      0.84      0.84       105\n",
            "           1       0.77      0.78      0.78        74\n",
            "\n",
            "    accuracy                           0.82       179\n",
            "   macro avg       0.81      0.81      0.81       179\n",
            "weighted avg       0.82      0.82      0.82       179\n",
            "\n"
          ]
        }
      ]
    },
    {
      "cell_type": "code",
      "source": [
        "\n",
        "\n",
        "\n",
        "\n",
        "print(metrics.f1_score(y_test, rf_prediction))"
      ],
      "metadata": {
        "colab": {
          "base_uri": "https://localhost:8080/"
        },
        "id": "NyZ-PsnuyS-U",
        "outputId": "1b2db161-4a41-4f54-bef4-ae770c9f4e69"
      },
      "execution_count": 531,
      "outputs": [
        {
          "output_type": "stream",
          "name": "stdout",
          "text": [
            "0.7785234899328859\n"
          ]
        }
      ]
    },
    {
      "cell_type": "code",
      "source": [
        "\n",
        "print('Parameters currently in use:\\n')\n",
        "mod_details = randomforestmodel.get_params()\n",
        "for i in mod_details:\n",
        "  print(i,\" :\", mod_details[i])\n",
        "  "
      ],
      "metadata": {
        "colab": {
          "base_uri": "https://localhost:8080/"
        },
        "id": "y7K06CtmM-Qw",
        "outputId": "9b441510-a4c6-4ad9-da33-7594c03664af"
      },
      "execution_count": 532,
      "outputs": [
        {
          "output_type": "stream",
          "name": "stdout",
          "text": [
            "Parameters currently in use:\n",
            "\n",
            "bootstrap  : True\n",
            "ccp_alpha  : 0.0\n",
            "class_weight  : None\n",
            "criterion  : gini\n",
            "max_depth  : None\n",
            "max_features  : auto\n",
            "max_leaf_nodes  : None\n",
            "max_samples  : None\n",
            "min_impurity_decrease  : 0.0\n",
            "min_samples_leaf  : 1\n",
            "min_samples_split  : 2\n",
            "min_weight_fraction_leaf  : 0.0\n",
            "n_estimators  : 10\n",
            "n_jobs  : None\n",
            "oob_score  : False\n",
            "random_state  : None\n",
            "verbose  : 0\n",
            "warm_start  : False\n"
          ]
        }
      ]
    },
    {
      "cell_type": "code",
      "source": [
        "\n",
        "from sklearn.model_selection import RandomizedSearchCV\n",
        "\n",
        "# Number of trees in random forest\n",
        "n_estimators = [int(x) for x in np.linspace(start = 20, stop = 250, num = 10)]\n",
        "# Number of features to consider at every split\n",
        "max_features = ['auto', 'sqrt']\n",
        "# Maximum number of levels in tree\n",
        "max_depth = [int(x) for x in np.linspace(5, 50, num = 10)]\n",
        "max_depth.append(None)\n",
        "# Minimum number of samples required to split a node\n",
        "min_samples_split = [2, 5, 10]\n",
        "# Minimum number of samples required at each leaf node\n",
        "min_samples_leaf = [1, 2, 4]\n",
        "# Method of selecting samples for training each tree\n",
        "bootstrap = [True, False]\n",
        "# Create the random grid\n",
        "random_grid = {'n_estimators': n_estimators,\n",
        "               'max_features': max_features,\n",
        "               'max_depth': max_depth,\n",
        "               'min_samples_split': min_samples_split,\n",
        "               'min_samples_leaf': min_samples_leaf,\n",
        "               'bootstrap': bootstrap}\n",
        "\n",
        "for i in random_grid:\n",
        "  print(i,\" :\", random_grid[i])\n",
        "\n",
        "  \n",
        "  "
      ],
      "metadata": {
        "colab": {
          "base_uri": "https://localhost:8080/"
        },
        "id": "RbW6Li7HNH1S",
        "outputId": "f860cb79-f179-40bc-cfe8-1b483d7dafcb"
      },
      "execution_count": 533,
      "outputs": [
        {
          "output_type": "stream",
          "name": "stdout",
          "text": [
            "n_estimators  : [20, 45, 71, 96, 122, 147, 173, 198, 224, 250]\n",
            "max_features  : ['auto', 'sqrt']\n",
            "max_depth  : [5, 10, 15, 20, 25, 30, 35, 40, 45, 50, None]\n",
            "min_samples_split  : [2, 5, 10]\n",
            "min_samples_leaf  : [1, 2, 4]\n",
            "bootstrap  : [True, False]\n"
          ]
        }
      ]
    },
    {
      "cell_type": "code",
      "source": [
        "# Use the random grid to search for best hyperparameters\n",
        "# First create the base model to tune\n",
        "rf = RandomForestClassifier()\n",
        "# Random search of parameters, using 3 fold cross validation, \n",
        "# search across 100 different combinations, and use all available cores\n",
        "rf_random = RandomizedSearchCV(estimator = rf, param_distributions = random_grid, n_iter = 100, cv = 3, verbose=2, random_state=7, n_jobs = -1)\n",
        "# Fit the random search model\n",
        "rf_random.fit(X_train, y_train)"
      ],
      "metadata": {
        "id": "oO2FDozxNaOa",
        "colab": {
          "base_uri": "https://localhost:8080/"
        },
        "outputId": "e61c59be-d709-42d9-cc42-c60cf14d5f5f"
      },
      "execution_count": 534,
      "outputs": [
        {
          "output_type": "stream",
          "name": "stdout",
          "text": [
            "Fitting 3 folds for each of 100 candidates, totalling 300 fits\n"
          ]
        },
        {
          "output_type": "execute_result",
          "data": {
            "text/plain": [
              "RandomizedSearchCV(cv=3, estimator=RandomForestClassifier(), n_iter=100,\n",
              "                   n_jobs=-1,\n",
              "                   param_distributions={'bootstrap': [True, False],\n",
              "                                        'max_depth': [5, 10, 15, 20, 25, 30, 35,\n",
              "                                                      40, 45, 50, None],\n",
              "                                        'max_features': ['auto', 'sqrt'],\n",
              "                                        'min_samples_leaf': [1, 2, 4],\n",
              "                                        'min_samples_split': [2, 5, 10],\n",
              "                                        'n_estimators': [20, 45, 71, 96, 122,\n",
              "                                                         147, 173, 198, 224,\n",
              "                                                         250]},\n",
              "                   random_state=7, verbose=2)"
            ]
          },
          "metadata": {},
          "execution_count": 534
        }
      ]
    },
    {
      "cell_type": "code",
      "source": [
        "rf_random.best_params_"
      ],
      "metadata": {
        "colab": {
          "base_uri": "https://localhost:8080/"
        },
        "id": "gxme88MczZG_",
        "outputId": "bd9210ce-0b44-495a-f05d-904ae64db3d8"
      },
      "execution_count": 535,
      "outputs": [
        {
          "output_type": "execute_result",
          "data": {
            "text/plain": [
              "{'bootstrap': True,\n",
              " 'max_depth': 15,\n",
              " 'max_features': 'sqrt',\n",
              " 'min_samples_leaf': 4,\n",
              " 'min_samples_split': 10,\n",
              " 'n_estimators': 71}"
            ]
          },
          "metadata": {},
          "execution_count": 535
        }
      ]
    },
    {
      "cell_type": "code",
      "source": [
        "from sklearn.metrics import accuracy_score\n",
        "\n",
        "base_model = RandomForestClassifier(random_state= 7)\n",
        "base_model.fit(X_train, y_train)\n",
        "bm_predictions = base_model.predict(X_test)\n",
        "base_accuracy = metrics.accuracy_score(y_test, bm_predictions)\n",
        "print(\"Base model Accuracy:\", base_accuracy)\n",
        "\n",
        "best_random = rf_random.best_estimator_\n",
        "best_random.fit(X_train, y_train)\n",
        "best_predictions = best_random.predict(X_test)\n",
        "best_accuracy = metrics.accuracy_score(y_test, best_predictions)\n",
        "print(\"Best model Accuracy:\", base_accuracy)\n",
        "\n",
        "print('Improvement of {:0.2f}%.'.format( 100 * (best_accuracy - base_accuracy) / base_accuracy))"
      ],
      "metadata": {
        "colab": {
          "base_uri": "https://localhost:8080/"
        },
        "id": "pU64Hi-Gzold",
        "outputId": "1a45e6d8-2641-4774-8e9a-e2212722a3ee"
      },
      "execution_count": 536,
      "outputs": [
        {
          "output_type": "stream",
          "name": "stdout",
          "text": [
            "Base model Accuracy: 0.8324022346368715\n",
            "Best model Accuracy: 0.8324022346368715\n",
            "Improvement of -2.68%.\n"
          ]
        }
      ]
    },
    {
      "cell_type": "code",
      "source": [
        "from sklearn.ensemble import BaggingClassifier\n",
        "from sklearn.neighbors import KNeighborsClassifier\n",
        "bagging = BaggingClassifier(KNeighborsClassifier(), max_samples=0.5, max_features=0.5)\n",
        "#Bagging Decision Tree Classifier\n",
        "#initialize base classifier\n",
        "dec_tree_cls=DecisionTreeClassifier()\n",
        "#number of base classifier\n",
        "no_of_trees=25\n",
        "#bagging classifier\n",
        "bag_cls=BaggingClassifier(base_estimator=dec_tree_cls,n_estimators=no_of_trees,random_state=10, bootstrap=True, oob_score=True)\n",
        "bag_cls.fit(X_train,y_train)\n",
        "bag_cls.predict(X_test)\n",
        "print(\"Bagging Classifier Accuracy \",bag_cls.score(X_test,y_test))"
      ],
      "metadata": {
        "colab": {
          "base_uri": "https://localhost:8080/"
        },
        "id": "99BHWyV1FO_7",
        "outputId": "ee48c71c-fe0f-48ec-8135-08eafdbcb0bd"
      },
      "execution_count": 537,
      "outputs": [
        {
          "output_type": "stream",
          "name": "stdout",
          "text": [
            "Bagging Classifier Accuracy  0.7877094972067039\n"
          ]
        }
      ]
    },
    {
      "cell_type": "code",
      "source": [
        "print(classification_report(y_test,bag_cls.predict(X_test)))"
      ],
      "metadata": {
        "colab": {
          "base_uri": "https://localhost:8080/"
        },
        "id": "haoYaZR5FHRm",
        "outputId": "f8a249a3-c9aa-4105-af51-036401061bba"
      },
      "execution_count": 538,
      "outputs": [
        {
          "output_type": "stream",
          "name": "stdout",
          "text": [
            "              precision    recall  f1-score   support\n",
            "\n",
            "           0       0.83      0.80      0.82       105\n",
            "           1       0.73      0.77      0.75        74\n",
            "\n",
            "    accuracy                           0.79       179\n",
            "   macro avg       0.78      0.79      0.78       179\n",
            "weighted avg       0.79      0.79      0.79       179\n",
            "\n"
          ]
        }
      ]
    },
    {
      "cell_type": "code",
      "source": [
        "from sklearn.tree import DecisionTreeClassifier "
      ],
      "metadata": {
        "id": "Y7JbpJYx7KO_"
      },
      "execution_count": 539,
      "outputs": []
    },
    {
      "cell_type": "code",
      "source": [
        "clf = DecisionTreeClassifier()"
      ],
      "metadata": {
        "id": "GZmKnMrX7LVi"
      },
      "execution_count": 540,
      "outputs": []
    },
    {
      "cell_type": "code",
      "source": [
        "clf = clf.fit(X_train,y_train)"
      ],
      "metadata": {
        "id": "g5-Kr1ue7ZqT"
      },
      "execution_count": 541,
      "outputs": []
    },
    {
      "cell_type": "code",
      "source": [
        "y_pred = clf.predict(X_test)"
      ],
      "metadata": {
        "id": "xp9l9amq7acm"
      },
      "execution_count": 542,
      "outputs": []
    },
    {
      "cell_type": "code",
      "source": [
        "print(\"Accuracy:\",metrics.accuracy_score(y_test, y_pred))"
      ],
      "metadata": {
        "colab": {
          "base_uri": "https://localhost:8080/"
        },
        "id": "DOEF5alm7gEP",
        "outputId": "2080162f-20fa-4f14-a541-78b9619bfea5"
      },
      "execution_count": 543,
      "outputs": [
        {
          "output_type": "stream",
          "name": "stdout",
          "text": [
            "Accuracy: 0.7932960893854749\n"
          ]
        }
      ]
    },
    {
      "cell_type": "code",
      "source": [
        "clf = DecisionTreeClassifier(criterion=\"entropy\", max_depth=3)\n"
      ],
      "metadata": {
        "id": "jT9kNnOm70Nk"
      },
      "execution_count": 544,
      "outputs": []
    },
    {
      "cell_type": "code",
      "source": [
        "clf = clf.fit(X_train,y_train)\n"
      ],
      "metadata": {
        "id": "A-y7pYNQ75gd"
      },
      "execution_count": 545,
      "outputs": []
    },
    {
      "cell_type": "code",
      "source": [
        "y_pred = clf.predict(X_test)"
      ],
      "metadata": {
        "id": "7AcjwDi97-Kf"
      },
      "execution_count": 546,
      "outputs": []
    },
    {
      "cell_type": "code",
      "source": [
        "\n",
        "print(\"Accuracy:\",metrics.accuracy_score(y_test, y_pred))\n"
      ],
      "metadata": {
        "colab": {
          "base_uri": "https://localhost:8080/"
        },
        "id": "vPNwVttb8LHn",
        "outputId": "18115c33-75e1-4f59-eb36-12804f6abd25"
      },
      "execution_count": 547,
      "outputs": [
        {
          "output_type": "stream",
          "name": "stdout",
          "text": [
            "Accuracy: 0.7988826815642458\n"
          ]
        }
      ]
    },
    {
      "cell_type": "code",
      "source": [
        "print(classification_report(y_test,clf.predict(X_test)))"
      ],
      "metadata": {
        "colab": {
          "base_uri": "https://localhost:8080/"
        },
        "id": "R3j3cOOFELbf",
        "outputId": "a885d591-e94b-4798-e388-77c7d686dbbe"
      },
      "execution_count": 548,
      "outputs": [
        {
          "output_type": "stream",
          "name": "stdout",
          "text": [
            "              precision    recall  f1-score   support\n",
            "\n",
            "           0       0.80      0.88      0.84       105\n",
            "           1       0.80      0.69      0.74        74\n",
            "\n",
            "    accuracy                           0.80       179\n",
            "   macro avg       0.80      0.78      0.79       179\n",
            "weighted avg       0.80      0.80      0.80       179\n",
            "\n"
          ]
        }
      ]
    },
    {
      "cell_type": "code",
      "source": [
        "from sklearn.ensemble import GradientBoostingClassifier\n",
        "lr_list = [0.05, 0.075, 0.1, 0.25, 0.5, 0.75, 1,1.25,1.50]\n",
        "for learning_rate in lr_list:\n",
        "    gb_clf = GradientBoostingClassifier(n_estimators=53, learning_rate=learning_rate, max_features=2, max_depth=2, random_state=0)\n",
        "    gb_clf.fit(X_train, y_train)\n",
        "print(\"Learning rate: \", learning_rate)\n",
        "print(\"Accuracy score (training): {0:.3f}\".format(gb_clf.score(X_train, y_train)))"
      ],
      "metadata": {
        "colab": {
          "base_uri": "https://localhost:8080/"
        },
        "id": "IDVes9uy9LGj",
        "outputId": "5771d468-9669-42da-a8d1-23766fcbe9a0"
      },
      "execution_count": 549,
      "outputs": [
        {
          "output_type": "stream",
          "name": "stdout",
          "text": [
            "Learning rate:  1.5\n",
            "Accuracy score (training): 0.867\n"
          ]
        }
      ]
    },
    {
      "cell_type": "code",
      "source": [
        "\n",
        "from sklearn.metrics import classification_report\n"
      ],
      "metadata": {
        "id": "WLsHwZN1_0lQ"
      },
      "execution_count": 550,
      "outputs": []
    },
    {
      "cell_type": "code",
      "source": [
        "from sklearn.ensemble import GradientBoostingClassifier"
      ],
      "metadata": {
        "id": "M1lWJNqGArKc"
      },
      "execution_count": 551,
      "outputs": []
    },
    {
      "cell_type": "code",
      "source": [
        "gradient_booster = GradientBoostingClassifier(learning_rate=0.1)\n",
        "gradient_booster.get_params()\n"
      ],
      "metadata": {
        "colab": {
          "base_uri": "https://localhost:8080/"
        },
        "id": "-nSGQS_PAr79",
        "outputId": "c6a2d5c3-3ec6-422d-e19d-a07e7ae301ac"
      },
      "execution_count": 552,
      "outputs": [
        {
          "output_type": "execute_result",
          "data": {
            "text/plain": [
              "{'ccp_alpha': 0.0,\n",
              " 'criterion': 'friedman_mse',\n",
              " 'init': None,\n",
              " 'learning_rate': 0.1,\n",
              " 'loss': 'deviance',\n",
              " 'max_depth': 3,\n",
              " 'max_features': None,\n",
              " 'max_leaf_nodes': None,\n",
              " 'min_impurity_decrease': 0.0,\n",
              " 'min_samples_leaf': 1,\n",
              " 'min_samples_split': 2,\n",
              " 'min_weight_fraction_leaf': 0.0,\n",
              " 'n_estimators': 100,\n",
              " 'n_iter_no_change': None,\n",
              " 'random_state': None,\n",
              " 'subsample': 1.0,\n",
              " 'tol': 0.0001,\n",
              " 'validation_fraction': 0.1,\n",
              " 'verbose': 0,\n",
              " 'warm_start': False}"
            ]
          },
          "metadata": {},
          "execution_count": 552
        }
      ]
    },
    {
      "cell_type": "code",
      "source": [
        "\n",
        "gradient_booster.fit(X_train,y_train)\n",
        "print(classification_report(y_test,gradient_booster.predict(X_test)))"
      ],
      "metadata": {
        "colab": {
          "base_uri": "https://localhost:8080/"
        },
        "id": "KPW1D7OEAy6j",
        "outputId": "3e460e73-7473-45d3-9be9-caa21563dd86"
      },
      "execution_count": 553,
      "outputs": [
        {
          "output_type": "stream",
          "name": "stdout",
          "text": [
            "              precision    recall  f1-score   support\n",
            "\n",
            "           0       0.80      0.89      0.84       105\n",
            "           1       0.81      0.69      0.74        74\n",
            "\n",
            "    accuracy                           0.80       179\n",
            "   macro avg       0.81      0.79      0.79       179\n",
            "weighted avg       0.80      0.80      0.80       179\n",
            "\n"
          ]
        }
      ]
    },
    {
      "cell_type": "markdown",
      "source": [
        "Thanks for checking out this project.\n",
        "\n",
        "I'm open to receiving your review on the project (comment on my github account). Thank you!"
      ],
      "metadata": {
        "id": "PmSIdVcULkvX"
      }
    }
  ],
  "metadata": {
    "colab": {
      "name": "Titanic_Project",
      "provenance": [],
      "collapsed_sections": [],
      "authorship_tag": "ABX9TyNtiOtphnlCVcjw49SXd6j0",
      "include_colab_link": true
    },
    "kernelspec": {
      "display_name": "Python 3",
      "name": "python3"
    },
    "language_info": {
      "name": "python"
    }
  },
  "nbformat": 4,
  "nbformat_minor": 0
}